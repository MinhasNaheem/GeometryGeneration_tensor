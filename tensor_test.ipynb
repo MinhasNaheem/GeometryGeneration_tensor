{
 "cells": [
  {
   "cell_type": "code",
   "execution_count": 6,
   "metadata": {},
   "outputs": [],
   "source": [
    "import numpy as np\n",
    "from numpy.linalg import norm\n",
    "import tensorflow as tf\n",
    "import pandas as pd\n",
    "from functions import plot_fids\n"
   ]
  },
  {
   "cell_type": "code",
   "execution_count": 18,
   "metadata": {},
   "outputs": [
    {
     "ename": "ValueError",
     "evalue": "Mime type rendering requires nbformat>=4.2.0 but it is not installed",
     "output_type": "error",
     "traceback": [
      "\u001b[1;31m---------------------------------------------------------------------------\u001b[0m",
      "\u001b[1;31mValueError\u001b[0m                                Traceback (most recent call last)",
      "Cell \u001b[1;32mIn[18], line 10\u001b[0m\n\u001b[0;32m      1\u001b[0m arr \u001b[38;5;241m=\u001b[39m np\u001b[38;5;241m.\u001b[39marray([[\u001b[38;5;241m-\u001b[39m\u001b[38;5;241m13.8856291967975\u001b[39m,\u001b[38;5;241m-\u001b[39m\u001b[38;5;241m66.3281814953512\u001b[39m,\u001b[38;5;241m247.617811143251\u001b[39m],\n\u001b[0;32m      2\u001b[0m [\u001b[38;5;241m20.9187637544014\u001b[39m,\u001b[38;5;241m-\u001b[39m\u001b[38;5;241m23.0027976452465\u001b[39m,\u001b[38;5;241m257.309409366197\u001b[39m],\n\u001b[0;32m      3\u001b[0m [\u001b[38;5;241m60.3827961786212\u001b[39m,\u001b[38;5;241m-\u001b[39m\u001b[38;5;241m17.7267229935585\u001b[39m,\u001b[38;5;241m257.281115278552\u001b[39m],\n\u001b[1;32m   (...)\u001b[0m\n\u001b[0;32m      7\u001b[0m [\u001b[38;5;241m-\u001b[39m\u001b[38;5;241m20.7315857862206\u001b[39m,\u001b[38;5;241m-\u001b[39m\u001b[38;5;241m9.59489945323305\u001b[39m,\u001b[38;5;241m179.500194806362\u001b[39m],\n\u001b[0;32m      8\u001b[0m [\u001b[38;5;241m-\u001b[39m\u001b[38;5;241m16.0539816151494\u001b[39m,\u001b[38;5;241m-\u001b[39m\u001b[38;5;241m43.3458676545516\u001b[39m,\u001b[38;5;241m149.793031304348\u001b[39m]])\u001b[38;5;241m.\u001b[39mastype(\u001b[38;5;124m'\u001b[39m\u001b[38;5;124mfloat16\u001b[39m\u001b[38;5;124m'\u001b[39m)\n\u001b[0;32m      9\u001b[0m fig \u001b[38;5;241m=\u001b[39m plot_fids(arr)\n\u001b[1;32m---> 10\u001b[0m \u001b[43mfig\u001b[49m\u001b[38;5;241;43m.\u001b[39;49m\u001b[43mshow\u001b[49m\u001b[43m(\u001b[49m\u001b[43m)\u001b[49m\n",
      "File \u001b[1;32mc:\\Users\\balas\\anaconda3\\envs\\tensor\\lib\\site-packages\\plotly\\basedatatypes.py:3398\u001b[0m, in \u001b[0;36mBaseFigure.show\u001b[1;34m(self, *args, **kwargs)\u001b[0m\n\u001b[0;32m   3365\u001b[0m \u001b[39m\u001b[39m\u001b[39m\"\"\"\u001b[39;00m\n\u001b[0;32m   3366\u001b[0m \u001b[39mShow a figure using either the default renderer(s) or the renderer(s)\u001b[39;00m\n\u001b[0;32m   3367\u001b[0m \u001b[39mspecified by the renderer argument\u001b[39;00m\n\u001b[1;32m   (...)\u001b[0m\n\u001b[0;32m   3394\u001b[0m \u001b[39mNone\u001b[39;00m\n\u001b[0;32m   3395\u001b[0m \u001b[39m\"\"\"\u001b[39;00m\n\u001b[0;32m   3396\u001b[0m \u001b[39mimport\u001b[39;00m \u001b[39mplotly\u001b[39;00m\u001b[39m.\u001b[39;00m\u001b[39mio\u001b[39;00m \u001b[39mas\u001b[39;00m \u001b[39mpio\u001b[39;00m\n\u001b[1;32m-> 3398\u001b[0m \u001b[39mreturn\u001b[39;00m pio\u001b[39m.\u001b[39mshow(\u001b[39mself\u001b[39m, \u001b[39m*\u001b[39margs, \u001b[39m*\u001b[39m\u001b[39m*\u001b[39mkwargs)\n",
      "File \u001b[1;32mc:\\Users\\balas\\anaconda3\\envs\\tensor\\lib\\site-packages\\plotly\\io\\_renderers.py:396\u001b[0m, in \u001b[0;36mshow\u001b[1;34m(fig, renderer, validate, **kwargs)\u001b[0m\n\u001b[0;32m    391\u001b[0m         \u001b[39mraise\u001b[39;00m \u001b[39mValueError\u001b[39;00m(\n\u001b[0;32m    392\u001b[0m             \u001b[39m\"\u001b[39m\u001b[39mMime type rendering requires ipython but it is not installed\u001b[39m\u001b[39m\"\u001b[39m\n\u001b[0;32m    393\u001b[0m         )\n\u001b[0;32m    395\u001b[0m     \u001b[39mif\u001b[39;00m \u001b[39mnot\u001b[39;00m nbformat \u001b[39mor\u001b[39;00m LooseVersion(nbformat\u001b[39m.\u001b[39m__version__) \u001b[39m<\u001b[39m LooseVersion(\u001b[39m\"\u001b[39m\u001b[39m4.2.0\u001b[39m\u001b[39m\"\u001b[39m):\n\u001b[1;32m--> 396\u001b[0m         \u001b[39mraise\u001b[39;00m \u001b[39mValueError\u001b[39;00m(\n\u001b[0;32m    397\u001b[0m             \u001b[39m\"\u001b[39m\u001b[39mMime type rendering requires nbformat>=4.2.0 but it is not installed\u001b[39m\u001b[39m\"\u001b[39m\n\u001b[0;32m    398\u001b[0m         )\n\u001b[0;32m    400\u001b[0m     ipython_display\u001b[39m.\u001b[39mdisplay(bundle, raw\u001b[39m=\u001b[39m\u001b[39mTrue\u001b[39;00m)\n\u001b[0;32m    402\u001b[0m \u001b[39m# external renderers\u001b[39;00m\n",
      "\u001b[1;31mValueError\u001b[0m: Mime type rendering requires nbformat>=4.2.0 but it is not installed"
     ]
    }
   ],
   "source": [
    "arr = np.array([[-13.8856291967975,-66.3281814953512,247.617811143251],\n",
    "[20.9187637544014,-23.0027976452465,257.309409366197],\n",
    "[60.3827961786212,-17.7267229935585,257.281115278552],\n",
    "[65.5131942085598,-56.0851307744565,247.743207934783],\n",
    "[22.1143071892556,-30.4731006408006,203.835899831461],\n",
    "[57.8630109021893,5.24918895656779,160.127783361582],\n",
    "[-20.7315857862206,-9.59489945323305,179.500194806362],\n",
    "[-16.0539816151494,-43.3458676545516,149.793031304348]]).astype('float16')\n",
    "fig = plot_fids(arr)\n",
    "fig.show()"
   ]
  },
  {
   "cell_type": "code",
   "execution_count": 13,
   "metadata": {},
   "outputs": [
    {
     "ename": "ValueError",
     "evalue": "Mime type rendering requires nbformat>=4.2.0 but it is not installed",
     "output_type": "error",
     "traceback": [
      "\u001b[1;31m---------------------------------------------------------------------------\u001b[0m",
      "\u001b[1;31mValueError\u001b[0m                                Traceback (most recent call last)",
      "Cell \u001b[1;32mIn[13], line 2\u001b[0m\n\u001b[0;32m      1\u001b[0m fig \u001b[38;5;241m=\u001b[39m plot_fids(arr)\n\u001b[1;32m----> 2\u001b[0m \u001b[43mfig\u001b[49m\u001b[38;5;241;43m.\u001b[39;49m\u001b[43mshow\u001b[49m\u001b[43m(\u001b[49m\u001b[43m)\u001b[49m\n",
      "File \u001b[1;32mc:\\Users\\balas\\anaconda3\\envs\\tensor\\lib\\site-packages\\plotly\\basedatatypes.py:3398\u001b[0m, in \u001b[0;36mBaseFigure.show\u001b[1;34m(self, *args, **kwargs)\u001b[0m\n\u001b[0;32m   3365\u001b[0m \u001b[39m\u001b[39m\u001b[39m\"\"\"\u001b[39;00m\n\u001b[0;32m   3366\u001b[0m \u001b[39mShow a figure using either the default renderer(s) or the renderer(s)\u001b[39;00m\n\u001b[0;32m   3367\u001b[0m \u001b[39mspecified by the renderer argument\u001b[39;00m\n\u001b[1;32m   (...)\u001b[0m\n\u001b[0;32m   3394\u001b[0m \u001b[39mNone\u001b[39;00m\n\u001b[0;32m   3395\u001b[0m \u001b[39m\"\"\"\u001b[39;00m\n\u001b[0;32m   3396\u001b[0m \u001b[39mimport\u001b[39;00m \u001b[39mplotly\u001b[39;00m\u001b[39m.\u001b[39;00m\u001b[39mio\u001b[39;00m \u001b[39mas\u001b[39;00m \u001b[39mpio\u001b[39;00m\n\u001b[1;32m-> 3398\u001b[0m \u001b[39mreturn\u001b[39;00m pio\u001b[39m.\u001b[39mshow(\u001b[39mself\u001b[39m, \u001b[39m*\u001b[39margs, \u001b[39m*\u001b[39m\u001b[39m*\u001b[39mkwargs)\n",
      "File \u001b[1;32mc:\\Users\\balas\\anaconda3\\envs\\tensor\\lib\\site-packages\\plotly\\io\\_renderers.py:396\u001b[0m, in \u001b[0;36mshow\u001b[1;34m(fig, renderer, validate, **kwargs)\u001b[0m\n\u001b[0;32m    391\u001b[0m         \u001b[39mraise\u001b[39;00m \u001b[39mValueError\u001b[39;00m(\n\u001b[0;32m    392\u001b[0m             \u001b[39m\"\u001b[39m\u001b[39mMime type rendering requires ipython but it is not installed\u001b[39m\u001b[39m\"\u001b[39m\n\u001b[0;32m    393\u001b[0m         )\n\u001b[0;32m    395\u001b[0m     \u001b[39mif\u001b[39;00m \u001b[39mnot\u001b[39;00m nbformat \u001b[39mor\u001b[39;00m LooseVersion(nbformat\u001b[39m.\u001b[39m__version__) \u001b[39m<\u001b[39m LooseVersion(\u001b[39m\"\u001b[39m\u001b[39m4.2.0\u001b[39m\u001b[39m\"\u001b[39m):\n\u001b[1;32m--> 396\u001b[0m         \u001b[39mraise\u001b[39;00m \u001b[39mValueError\u001b[39;00m(\n\u001b[0;32m    397\u001b[0m             \u001b[39m\"\u001b[39m\u001b[39mMime type rendering requires nbformat>=4.2.0 but it is not installed\u001b[39m\u001b[39m\"\u001b[39m\n\u001b[0;32m    398\u001b[0m         )\n\u001b[0;32m    400\u001b[0m     ipython_display\u001b[39m.\u001b[39mdisplay(bundle, raw\u001b[39m=\u001b[39m\u001b[39mTrue\u001b[39;00m)\n\u001b[0;32m    402\u001b[0m \u001b[39m# external renderers\u001b[39;00m\n",
      "\u001b[1;31mValueError\u001b[0m: Mime type rendering requires nbformat>=4.2.0 but it is not installed"
     ]
    }
   ],
   "source": []
  },
  {
   "cell_type": "code",
   "execution_count": 2,
   "metadata": {},
   "outputs": [],
   "source": [
    "df = pd.read_csv('788598_collect.csv')\n",
    "tool_pos = df[['toolx','tooly','toolz']].to_numpy()\n",
    "ref_pos = df[['refx','refy','refz']].to_numpy()"
   ]
  },
  {
   "cell_type": "code",
   "execution_count": 3,
   "metadata": {},
   "outputs": [
    {
     "data": {
      "text/plain": [
       "array([[ 1.09490801e+06,  1.81459279e+06, -2.61863367e+07],\n",
       "       [ 8.43311889e+06,  1.39761882e+07, -2.01689989e+08],\n",
       "       [-1.20492067e+08, -1.99691222e+08,  2.88173890e+09]])"
      ]
     },
     "execution_count": 3,
     "metadata": {},
     "output_type": "execute_result"
    }
   ],
   "source": [
    "a = tool_pos.transpose()\n",
    "b = ref_pos\n",
    "\n",
    "# Run on the GPU\n",
    "c = a@b\n",
    "c"
   ]
  },
  {
   "cell_type": "code",
   "execution_count": 4,
   "metadata": {},
   "outputs": [],
   "source": [
    "def unit(vector):\n",
    "    \"\"\" Returns the unit vector of the vector.  \"\"\"\n",
    "    if np.linalg.norm(vector)== 0:\n",
    "        return np.array([0,0,0])\n",
    "    else:\n",
    "        return vector / np.linalg.norm(vector)\n",
    "\n",
    "def distanceFromLine(p1,p2,p3):\n",
    "    # distance of a point p3 from the line formed using points p1 and p2\n",
    "    if norm(p2-p1) == 0:\n",
    "        return 100\n",
    "    else:\n",
    "        d = norm(np.cross(p2-p1, p1-p3))/norm(p2-p1)\n",
    "        return d\n"
   ]
  },
  {
   "cell_type": "code",
   "execution_count": 5,
   "metadata": {},
   "outputs": [],
   "source": [
    "def compute_tre(vector,target):\n",
    "    \n",
    "\n",
    "    \n",
    "\n",
    "    # add noise to system\n",
    "    # vector = vector + noise\n",
    "\n",
    "    \n",
    "    centroid = np.mean(vector,axis=0)\n",
    "    \n",
    "\n",
    "    axis =[]\n",
    "    temp_vec =  unit(vector[1] -  centroid)\n",
    "\n",
    "    temp_vec2 = tnp.cross(temp_vec,unit(vector[2]-centroid))\n",
    "    temp_vec3 = tnp.cross(temp_vec,temp_vec2)\n",
    "    axis.append(temp_vec)\n",
    "    axis.append(temp_vec2)\n",
    "    axis.append(temp_vec3)\n",
    "\n",
    "\n",
    "    # fiducials to principal axis\n",
    "    # target from principal axis \n",
    "    tp = []\n",
    "    tp.append(distanceFromLine(centroid,centroid + axis[0],target))\n",
    "    tp.append(distanceFromLine(centroid,centroid + axis[1],target))\n",
    "    tp.append(distanceFromLine(centroid,centroid + axis[2],target))\n",
    "\n",
    "    fp = []\n",
    "    f = np.zeros(3)\n",
    "    for i in range(3):\n",
    "        sum = 0\n",
    "        for j in range(len(vector)):\n",
    "            fp = np.around(distanceFromLine(centroid,centroid+axis[i],vector[j]),3)\n",
    "            # print(fp)\n",
    "            sum = sum + fp**2\n",
    "        if np.round(sum/len(vector)) == 0:\n",
    "            f[i]=10000\n",
    "            # print(f[i])\n",
    "        else:\n",
    "            f[i] = tp[i]**2/(sum/len(vector))\n",
    "            \n",
    "        \n",
    "        \n",
    "\n",
    "    fle = 0.3\n",
    "    tre = (fle**2/len(vector))*(np.mean(f)+1)\n",
    "    return np.sqrt(np.around(tre,3))"
   ]
  },
  {
   "cell_type": "code",
   "execution_count": 10,
   "metadata": {},
   "outputs": [
    {
     "name": "stdout",
     "output_type": "stream",
     "text": [
      "0.5300943312279429\n"
     ]
    }
   ],
   "source": [
    "p1 = np.array([1,3,4]).astype('float16')\n",
    "p2 = np.array([3,4,5]).astype('float16')\n",
    "\n",
    "p3 = np.array([4,7,8]).astype('float16')\n",
    "\n",
    "fiducial = [p1,p2,p3]\n",
    "tre =compute_tre (fiducial,[0,0,0])\n",
    "print(tre)"
   ]
  },
  {
   "cell_type": "code",
   "execution_count": 7,
   "metadata": {},
   "outputs": [],
   "source": [
    "def unitTens(vector):\n",
    "    return vector / tf.raw_ops.EuclideanNorm(input=vector,axis=0)\n",
    "\n",
    "\n",
    "def DistanceFromLineTens(p1,p2,p3):\n",
    "    p = p2-p1\n",
    "    if tf.raw_ops.EuclideanNorm(input=p,axis=0) == 0:\n",
    "        return 100\n",
    "    else:\n",
    "        d = tf.raw_ops.EuclideanNorm(input=tf.linalg.cross(p2-p1,p1-p3),axis=0)/tf.raw_ops.EuclideanNorm(input=p,axis=0)\n",
    "        return d\n",
    "    \n",
    "def compute_treT(vector,target):\n",
    "    centroid = tnp.mean(vector,axis = 0).astype('float16')\n",
    "    axis =[]\n",
    "    temp_vec =  unitTens(vector[1] -  centroid)\n",
    "\n",
    "    temp_vec2 = tnp.cross(temp_vec,unit(vector[2]-centroid))\n",
    "    temp_vec3 = tnp.cross(temp_vec,temp_vec2)\n",
    "    axis.append(temp_vec)\n",
    "    axis.append(temp_vec2)\n",
    "    axis.append(temp_vec3)\n",
    "\n",
    "\n",
    "    # fiducials to principal axis\n",
    "    # target from principal axis \n",
    "    tp = []\n",
    "    tp.append(DistanceFromLineTens(centroid,centroid + axis[0],target))\n",
    "    tp.append(DistanceFromLineTens(centroid,centroid + axis[1],target))\n",
    "    tp.append(DistanceFromLineTens(centroid,centroid + axis[2],target))\n",
    "\n",
    "    fp = []\n",
    "    f = np.zeros(3)\n",
    "    for i in range(3):\n",
    "        sum = 0\n",
    "        for j in range(len(vector)):\n",
    "            fp = tnp.around(DistanceFromLineTens(centroid,centroid+axis[i],vector[j]),3)\n",
    "            # print(fp)\n",
    "            sum = sum + fp**2\n",
    "        if tnp.round(sum/len(vector)) == 0:\n",
    "            f[i]=10000\n",
    "            # print(f[i])\n",
    "        else:\n",
    "            f[i] = tp[i]**2/(sum/len(vector))\n",
    "            \n",
    "        \n",
    "        \n",
    "\n",
    "    fle = 0.3\n",
    "    tre = (fle**2/len(vector))*(tnp.mean(f)+1).astype('float16')\n",
    "    return tf.math.sqrt(tnp.around(tre,3))\n"
   ]
  },
  {
   "cell_type": "code",
   "execution_count": 9,
   "metadata": {},
   "outputs": [
    {
     "name": "stdout",
     "output_type": "stream",
     "text": [
      "tf.Tensor(0.5303, shape=(), dtype=float16)\n"
     ]
    }
   ],
   "source": [
    "gpus = tf.config.list_physical_devices('GPU')\n",
    "with tf.device('/job:localhost/replica:0/task:0/device:GPU:0'):\n",
    "    p1 = tf.constant([1,3,4],dtype='float16')\n",
    "    p2 = tf.constant([3,4,5],dtype='float16')\n",
    "    p3 = tf.constant([4,7,8],dtype='float16')\n",
    "\n",
    "\n",
    "    fiducial = [p1,p2,p3]\n",
    "    tre =compute_treT(fiducial,[0,0,0])\n",
    "    print(tre)"
   ]
  },
  {
   "cell_type": "markdown",
   "metadata": {},
   "source": []
  },
  {
   "cell_type": "code",
   "execution_count": null,
   "metadata": {},
   "outputs": [],
   "source": [
    "\n",
    "    "
   ]
  }
 ],
 "metadata": {
  "kernelspec": {
   "display_name": "Python 3.9.15 ('tensor')",
   "language": "python",
   "name": "python3"
  },
  "language_info": {
   "codemirror_mode": {
    "name": "ipython",
    "version": 3
   },
   "file_extension": ".py",
   "mimetype": "text/x-python",
   "name": "python",
   "nbconvert_exporter": "python",
   "pygments_lexer": "ipython3",
   "version": "3.9.15"
  },
  "orig_nbformat": 4,
  "vscode": {
   "interpreter": {
    "hash": "430ac875296bdd5641f0806b1a6495c0cb03efeae5e5b5d1c66ebb83b9c1e196"
   }
  }
 },
 "nbformat": 4,
 "nbformat_minor": 2
}
